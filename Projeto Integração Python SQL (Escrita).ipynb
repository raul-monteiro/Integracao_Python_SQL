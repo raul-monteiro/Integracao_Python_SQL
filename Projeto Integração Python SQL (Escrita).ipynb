{
 "cells": [
  {
   "cell_type": "code",
   "execution_count": 11,
   "id": "2609787a",
   "metadata": {},
   "outputs": [
    {
     "name": "stdout",
     "output_type": "stream",
     "text": [
      "Requirement already satisfied: pyodbc in c:\\users\\raulm\\anaconda3\\lib\\site-packages (4.0.34)\n",
      "Note: you may need to restart the kernel to use updated packages.\n"
     ]
    }
   ],
   "source": [
    "pip install pyodbc"
   ]
  },
  {
   "cell_type": "code",
   "execution_count": 12,
   "id": "eb2f0f14",
   "metadata": {},
   "outputs": [
    {
     "name": "stdout",
     "output_type": "stream",
     "text": [
      "Conexão Bem Sucedida\n"
     ]
    }
   ],
   "source": [
    "import pyodbc\n",
    "\n",
    "dados_conexao = (\n",
    "    \"Driver={SQL Server};\"\n",
    "    \"Server={DESKTOP-OGLQT1I};\"\n",
    "    \"Database={PythonSQL};\"\n",
    ")\n",
    "\n",
    "conexao = pyodbc.connect(dados_conexao)\n",
    "print(\"Conexão Bem Sucedida\")"
   ]
  },
  {
   "cell_type": "code",
   "execution_count": 13,
   "id": "6ecb3dc0",
   "metadata": {},
   "outputs": [],
   "source": [
    "cursor = conexao.cursor()\n",
    "\n",
    "id = 9\n",
    "data = \"30/06/2022\"\n",
    "cliente = \"Ruth\"\n",
    "produto = \"Tablet\"\n",
    "preco = 1200\n",
    "quantidade = 2\n",
    "\n",
    "comando = f\"\"\"INSERT INTO Vendas(id_venda, data_venda, cliente, produto, preco, quantidade) VALUES \n",
    "\t({id}, '{data}', '{cliente}', '{produto}', {preco}, {quantidade})\"\"\"\n",
    "\n",
    "cursor.execute(comando)\n",
    "\n",
    "cursor.commit()"
   ]
  },
  {
   "cell_type": "code",
   "execution_count": null,
   "id": "d79abcec",
   "metadata": {},
   "outputs": [],
   "source": []
  }
 ],
 "metadata": {
  "kernelspec": {
   "display_name": "Python 3 (ipykernel)",
   "language": "python",
   "name": "python3"
  },
  "language_info": {
   "codemirror_mode": {
    "name": "ipython",
    "version": 3
   },
   "file_extension": ".py",
   "mimetype": "text/x-python",
   "name": "python",
   "nbconvert_exporter": "python",
   "pygments_lexer": "ipython3",
   "version": "3.10.9"
  }
 },
 "nbformat": 4,
 "nbformat_minor": 5
}
